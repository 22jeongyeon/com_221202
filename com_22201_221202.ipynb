{
  "nbformat": 4,
  "nbformat_minor": 0,
  "metadata": {
    "colab": {
      "provenance": [],
      "authorship_tag": "ABX9TyNCNhlBkHzEcOEanQKBbxMC",
      "include_colab_link": true
    },
    "kernelspec": {
      "name": "python3",
      "display_name": "Python 3"
    },
    "language_info": {
      "name": "python"
    }
  },
  "cells": [
    {
      "cell_type": "markdown",
      "metadata": {
        "id": "view-in-github",
        "colab_type": "text"
      },
      "source": [
        "<a href=\"https://colab.research.google.com/github/22jeongyeon/com_221202/blob/main/com_22201_221202.ipynb\" target=\"_parent\"><img src=\"https://colab.research.google.com/assets/colab-badge.svg\" alt=\"Open In Colab\"/></a>"
      ]
    },
    {
      "cell_type": "code",
      "execution_count": null,
      "metadata": {
        "colab": {
          "base_uri": "https://localhost:8080/"
        },
        "id": "7nfHsgLai6Kr",
        "outputId": "b45f218f-3110-46e0-a4c0-decfb753c7c0"
      },
      "outputs": [
        {
          "output_type": "stream",
          "name": "stdout",
          "text": [
            "########################\n",
            "# 합격 불합격 프로그램 #\n",
            "########################\n",
            "성적을 입력하시오.: 80\n",
            "합격\n"
          ]
        }
      ],
      "source": [
        "print(\"########################\")\n",
        "print(\"# 합격 불합격 프로그램 #\")\n",
        "print(\"########################\")\n",
        "grade = int(input(\"성적을 입력하시오.: \"))\n",
        "if grade >= 60 :\n",
        "  print(\"합격\")\n",
        "else :\n",
        "  print(\"불합격\")"
      ]
    },
    {
      "cell_type": "code",
      "source": [
        "print(\"########################\")\n",
        "print(\"#    이름, 나이, 답변 앱       #\")\n",
        "print(\"########################\")\n",
        "yu_name = str(input(\"이름: \"))\n",
        "yu_age = int(input(\"나이: \"))\n",
        "if yu_age <= 25 :\n",
        "  print(\"와우!!! 프로그래밍을 완벽하게 배울수 있는 나이입니다.!\")\n",
        "else:\n",
        "  print(\"포기하기에는 아직 늦지 않았습니다.\")\n",
        "print(\" n\")"
      ],
      "metadata": {
        "colab": {
          "base_uri": "https://localhost:8080/"
        },
        "id": "2klwivNylxgy",
        "outputId": "85d43347-8450-4f26-f309-9524e5fe9e1f"
      },
      "execution_count": null,
      "outputs": [
        {
          "output_type": "stream",
          "name": "stdout",
          "text": [
            "########################\n",
            "#    이름, 나이, 답변 앱       #\n",
            "########################\n",
            "이름: 정연\n",
            "나이: 24\n",
            "와우!!! 프로그래밍을 완벽하게 배울수 있는 나이입니다.!\n",
            " n\n"
          ]
        }
      ]
    },
    {
      "cell_type": "code",
      "source": [
        "print(\"########################\")\n",
        "print(\"#    짝수와 홀수 판별 앱 - 1    #\")\n",
        "print(\"########################\")\n",
        "\n",
        "sm_int = int(input(\"정수를 입력하시오: \"))\n",
        "if (sm_int % 2) != 0 :\n",
        "  print(\"홀수\")\n",
        "else:\n",
        "  print(\"짝수\")"
      ],
      "metadata": {
        "colab": {
          "base_uri": "https://localhost:8080/"
        },
        "id": "MJ5IFscsmxCx",
        "outputId": "991abbe6-b24d-4165-8d2d-654db7186759"
      },
      "execution_count": null,
      "outputs": [
        {
          "output_type": "stream",
          "name": "stdout",
          "text": [
            "########################\n",
            "#    짝수와 홀수 판별 앱 - 1    #\n",
            "########################\n",
            "정수를 입력하시오: 2\n",
            "짝수\n"
          ]
        }
      ]
    },
    {
      "cell_type": "code",
      "source": [
        "print(\"########################\")\n",
        "print(\"#    짝수와 홀수 판별 앱 - 2    #\")\n",
        "print(\"########################\")\n",
        "def printEvenOdd():\n",
        "  if userData % 2 == 0. :\n",
        "    print('입력한 정수는 짝수 입니다.')\n",
        "  else:\n",
        "    print('입력한 정수는 홀수 입니다.')\n",
        "userData = int(input('정수를 입력하세요. '))\n",
        "printEvenOdd()"
      ],
      "metadata": {
        "colab": {
          "base_uri": "https://localhost:8080/"
        },
        "id": "exLU5RuOnUrx",
        "outputId": "8ea39bdb-7c94-48a4-e3ab-6cf96a886e2e"
      },
      "execution_count": 33,
      "outputs": [
        {
          "output_type": "stream",
          "name": "stdout",
          "text": [
            "########################\n",
            "#    짝수와 홀수 판별 앱 - 2    #\n",
            "########################\n",
            "정수를 입력하세요. 10\n",
            "입력한 정수는 짝수 입니다.\n"
          ]
        }
      ]
    },
    {
      "cell_type": "code",
      "source": [
        "intro = 'Good morning.'\n",
        "print(intro)\n",
        "print(intro)\n",
        "print(intro)\n",
        "# 키보드를 통해서 입력값 받고 출력하기\n",
        "kor = input('국어 점수를 입력하세요. : ')\n",
        "eng = input('영어 점수를 입력하세요. : ')\n",
        "mat = input('수학 점수를 입력하세요. : ')\n",
        "print(\"국어\", kor)\n",
        "print(\"영어\", eng)\n",
        "print(\"수학\", mat)"
      ],
      "metadata": {
        "colab": {
          "base_uri": "https://localhost:8080/"
        },
        "id": "N7e8YfmKzfwu",
        "outputId": "b3a17ae2-2153-4597-b0f4-27e10a413ebd"
      },
      "execution_count": 35,
      "outputs": [
        {
          "output_type": "stream",
          "name": "stdout",
          "text": [
            "Good morning.\n",
            "Good morning.\n",
            "Good morning.\n",
            "국어 점수를 입력하세요. : 80\n",
            "영어 점수를 입력하세요. : 80\n",
            "수학 점수를 입력하세요. : 70\n",
            "국어 80\n",
            "영어 80\n",
            "수학 70\n"
          ]
        }
      ]
    },
    {
      "cell_type": "code",
      "source": [
        "kor = int(input('국어 점수를 입력하세요. '))\n",
        "eng = int(input('영어 점수를 입력하세요. '))\n",
        "mat = int(input('수학 점수를 입력하세요. '))\n",
        "print('총점 : ', (kor + eng + mat))\n",
        "print('평균 : ', (kor + eng + mat) / 3)"
      ],
      "metadata": {
        "colab": {
          "base_uri": "https://localhost:8080/"
        },
        "id": "whBV0xp21Sw0",
        "outputId": "73d455c3-bd1d-4043-f4a7-d75ea665a79a"
      },
      "execution_count": 37,
      "outputs": [
        {
          "output_type": "stream",
          "name": "stdout",
          "text": [
            "국어 점수를 입력하세요. 80\n",
            "영어 점수를 입력하세요. 80\n",
            "수학 점수를 입력하세요. 70\n",
            "총점 :  230\n",
            "평균 :  76.66666666666667\n"
          ]
        }
      ]
    },
    {
      "cell_type": "code",
      "source": [
        "#정수 2개 입력받아서 더하고, 2로 나누기\n",
        "num1 = int(input('첫 번째 정수를 입력하세요. '))\n",
        "num2 = int(input('두 번째 정수를 입력하세요. '))\n",
        "print('합 : ', num1 + num2)\n",
        "print('평균 : ', (num1 + num2) / 2)"
      ],
      "metadata": {
        "colab": {
          "base_uri": "https://localhost:8080/"
        },
        "id": "6Uocxhue2HRc",
        "outputId": "d39618ae-e0df-4197-a016-18cb3ecbd049"
      },
      "execution_count": 39,
      "outputs": [
        {
          "output_type": "stream",
          "name": "stdout",
          "text": [
            "첫 번째 정수를 입력하세요. 2\n",
            "두 번째 정수를 입력하세요. 2\n",
            "합 :  4\n",
            "평균 :  2.0\n"
          ]
        }
      ]
    },
    {
      "cell_type": "code",
      "source": [
        "print('사용자 정보를 입력하세요.')\n",
        "name = input('이름 : ')\n",
        "phone = input('연락처 : ')\n",
        "mail = input('메일 : ')\n",
        "job = input('직업 : ')\n",
        "print(name)\n",
        "print(phone)\n",
        "print(mail)\n",
        "print(job)"
      ],
      "metadata": {
        "colab": {
          "base_uri": "https://localhost:8080/"
        },
        "id": "TD0iWtJP3Afs",
        "outputId": "fa8a8ec9-e868-4d0e-ad2b-ffdac1e9f811"
      },
      "execution_count": 40,
      "outputs": [
        {
          "output_type": "stream",
          "name": "stdout",
          "text": [
            "사용자 정보를 입력하세요.\n",
            "이름 : 정연\n",
            "연락처 : 010\n",
            "메일 : jeongyeon\n",
            "직업 : 학생\n",
            "정연\n",
            "010\n",
            "jeongyeon\n",
            "학생\n"
          ]
        }
      ]
    }
  ]
}